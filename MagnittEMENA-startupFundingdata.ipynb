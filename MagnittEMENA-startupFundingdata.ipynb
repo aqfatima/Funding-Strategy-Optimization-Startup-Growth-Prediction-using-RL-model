{
 "cells": [
  {
   "cell_type": "markdown",
   "metadata": {},
   "source": [
    "# <center> Funding Strategy Optimization & Startup Growth Prediction using RL model <center>"
   ]
  },
  {
   "cell_type": "markdown",
   "metadata": {},
   "source": [
    "### Funding Strategy Optimization\n",
    "\n",
    "Goal: Optimize the amount raised based on historical funding data.\n",
    "State Space: Include startup characteristics like funding stage, amount raised, valuation, industry, etc.\n",
    "Action Space: Possible actions could include different funding strategies (e.g., change funding vehicle, adjust amount raised).\n",
    "Reward Function: Reward could be based on successful funding rounds or increased valuation.\n",
    "\n",
    "### Startup Growth Prediction\n",
    "Goal: Determine the best actions for startup growth.\n",
    "State Space: Current valuation, funding stage, and amount raised.\n",
    "Action Space: Actions like pivoting the business model or increasing funding.\n",
    "Reward Function: Reward for successful growth indicators (e.g., revenue increase, further funding)."
   ]
  },
  {
   "cell_type": "markdown",
   "metadata": {},
   "source": [
    "Here is the data:\n",
    "\n",
    "| Column Name        | Description                                     |\n",
    "|--------------------|-------------------------------------------------|\n",
    "| Name               | Name of the startup                             |\n",
    "| Date Funded        | Date of funding                                 |\n",
    "| Funding Stage      | Stage of funding (e.g., Pre-SEED, Series A)      |\n",
    "| Investment Vehicle | Type of investment (e.g., Equity, Debt)          |\n",
    "| Amount Raised      | Amount raised in the round                       |\n",
    "| Valuation          | Current valuation (if available)                 |\n",
    "| Total Amount Raised| Cumulative funding received                      |\n",
    "| Country            | Location of the startup                          |\n",
    "| Primary Industry   | Industry category of the startup                 |\n",
    "| Investors          | Names of investors involved                      |\n",
    "\n",
    "\n",
    "* Please note that this a real data used from Magnitt website that has startup & funding information of EMENA region and I am using MENA region here for now"
   ]
  },
  {
   "cell_type": "markdown",
   "metadata": {},
   "source": [
    "## 1.1 Initialization"
   ]
  },
  {
   "cell_type": "code",
   "execution_count": 3,
   "metadata": {},
   "outputs": [
    {
     "name": "stdout",
     "output_type": "stream",
     "text": [
      "Requirement already satisfied: gym in /Users/fatimaabdullah93/opt/anaconda3/lib/python3.9/site-packages (0.26.2)\n",
      "Requirement already satisfied: numpy>=1.18.0 in /Users/fatimaabdullah93/opt/anaconda3/lib/python3.9/site-packages (from gym) (1.19.4)\n",
      "Requirement already satisfied: cloudpickle>=1.2.0 in /Users/fatimaabdullah93/opt/anaconda3/lib/python3.9/site-packages (from gym) (2.0.0)\n",
      "Requirement already satisfied: gym-notices>=0.0.4 in /Users/fatimaabdullah93/opt/anaconda3/lib/python3.9/site-packages (from gym) (0.0.8)\n",
      "Requirement already satisfied: importlib-metadata>=4.8.0 in /Users/fatimaabdullah93/opt/anaconda3/lib/python3.9/site-packages (from gym) (4.11.3)\n",
      "Requirement already satisfied: zipp>=0.5 in /Users/fatimaabdullah93/opt/anaconda3/lib/python3.9/site-packages (from importlib-metadata>=4.8.0->gym) (3.8.0)\n"
     ]
    }
   ],
   "source": [
    "!pip install gym\n",
    "\n",
    "import gym\n",
    "import numpy as np\n",
    "import tensorflow as tf\n",
    "from tensorflow.keras.models import Sequential\n",
    "from tensorflow.keras.layers import Dense\n",
    "from tensorflow.keras.optimizers import Adam\n",
    "\n",
    "\n"
   ]
  },
  {
   "cell_type": "code",
   "execution_count": 4,
   "metadata": {},
   "outputs": [
    {
     "name": "stdout",
     "output_type": "stream",
     "text": [
      "Requirement already satisfied: openpyxl in /Library/Frameworks/Python.framework/Versions/3.11/lib/python3.11/site-packages (3.1.5)\n",
      "Requirement already satisfied: et-xmlfile in /Library/Frameworks/Python.framework/Versions/3.11/lib/python3.11/site-packages (from openpyxl) (1.1.0)\n",
      "Note: you may need to restart the kernel to use updated packages.\n"
     ]
    }
   ],
   "source": [
    "\n",
    "\n",
    "import numpy as np\n",
    "import pandas as pd\n",
    "import matplotlib.pyplot as plt\n",
    "\n",
    "file_path = \"/Users/fatimaabdullah93/Desktop/MDX Masters - Data Science/CST4050 Modelling, regression and Machine Learning/Assignment 4/Magnitt-data-EMENA.xlsx\"\n",
    "%pip install openpyxl\n",
    "df = pd.read_excel(file_path)\n",
    "\n"
   ]
  },
  {
   "cell_type": "code",
   "execution_count": 5,
   "metadata": {},
   "outputs": [
    {
     "data": {
      "text/html": [
       "<div>\n",
       "<style scoped>\n",
       "    .dataframe tbody tr th:only-of-type {\n",
       "        vertical-align: middle;\n",
       "    }\n",
       "\n",
       "    .dataframe tbody tr th {\n",
       "        vertical-align: top;\n",
       "    }\n",
       "\n",
       "    .dataframe thead th {\n",
       "        text-align: right;\n",
       "    }\n",
       "</style>\n",
       "<table border=\"1\" class=\"dataframe\">\n",
       "  <thead>\n",
       "    <tr style=\"text-align: right;\">\n",
       "      <th></th>\n",
       "      <th>Name</th>\n",
       "      <th>Date Funded</th>\n",
       "      <th>Funding Stage</th>\n",
       "      <th>Investment Vehicle</th>\n",
       "      <th>Amount Raised</th>\n",
       "      <th>Valuation</th>\n",
       "      <th>Total Amount Raised</th>\n",
       "      <th>Country</th>\n",
       "      <th>Primary Industry</th>\n",
       "      <th>Investors</th>\n",
       "    </tr>\n",
       "  </thead>\n",
       "  <tbody>\n",
       "    <tr>\n",
       "      <th>0</th>\n",
       "      <td>Maalexi</td>\n",
       "      <td>2024-07-01</td>\n",
       "      <td>Undisclosed</td>\n",
       "      <td>Venture Debt</td>\n",
       "      <td>$1M</td>\n",
       "      <td>-</td>\n",
       "      <td>$4M</td>\n",
       "      <td>United Arab Emirates (UAE)</td>\n",
       "      <td>Transport &amp; Logistics</td>\n",
       "      <td>Stride Ventures</td>\n",
       "    </tr>\n",
       "    <tr>\n",
       "      <th>1</th>\n",
       "      <td>جيل - Jeel</td>\n",
       "      <td>2024-06-01</td>\n",
       "      <td>Undisclosed</td>\n",
       "      <td>Equity</td>\n",
       "      <td>Undisclosed</td>\n",
       "      <td>-</td>\n",
       "      <td>Undisclosed</td>\n",
       "      <td>Saudi Arabia (KSA)</td>\n",
       "      <td>EdTech</td>\n",
       "      <td>RZM investment</td>\n",
       "    </tr>\n",
       "    <tr>\n",
       "      <th>2</th>\n",
       "      <td>Comfi Payments</td>\n",
       "      <td>2024-06-01</td>\n",
       "      <td>Undisclosed</td>\n",
       "      <td>Conventional Debt</td>\n",
       "      <td>$5M</td>\n",
       "      <td>-</td>\n",
       "      <td>$5M</td>\n",
       "      <td>United Arab Emirates (UAE)</td>\n",
       "      <td>FinTech</td>\n",
       "      <td>-</td>\n",
       "    </tr>\n",
       "    <tr>\n",
       "      <th>3</th>\n",
       "      <td>Tapper</td>\n",
       "      <td>2024-06-01</td>\n",
       "      <td>Pre-SEED</td>\n",
       "      <td>Equity</td>\n",
       "      <td>$250K</td>\n",
       "      <td>$4.5M - $5.5M</td>\n",
       "      <td>$250K</td>\n",
       "      <td>United Arab Emirates (UAE)</td>\n",
       "      <td>Advertising and Marketing</td>\n",
       "      <td>AngelSpark</td>\n",
       "    </tr>\n",
       "    <tr>\n",
       "      <th>4</th>\n",
       "      <td>Konn Technologies Ltd</td>\n",
       "      <td>2024-06-01</td>\n",
       "      <td>Undisclosed</td>\n",
       "      <td>Equity</td>\n",
       "      <td>Undisclosed</td>\n",
       "      <td>-</td>\n",
       "      <td>$2M</td>\n",
       "      <td>Jordan</td>\n",
       "      <td>Construction &amp; Infrastructure</td>\n",
       "      <td>Amam Ventures</td>\n",
       "    </tr>\n",
       "    <tr>\n",
       "      <th>...</th>\n",
       "      <td>...</td>\n",
       "      <td>...</td>\n",
       "      <td>...</td>\n",
       "      <td>...</td>\n",
       "      <td>...</td>\n",
       "      <td>...</td>\n",
       "      <td>...</td>\n",
       "      <td>...</td>\n",
       "      <td>...</td>\n",
       "      <td>...</td>\n",
       "    </tr>\n",
       "    <tr>\n",
       "      <th>393</th>\n",
       "      <td>erad</td>\n",
       "      <td>2023-09-01</td>\n",
       "      <td>Pre-SEED</td>\n",
       "      <td>Equity</td>\n",
       "      <td>$2.4M</td>\n",
       "      <td>$17.9M - $21.8M</td>\n",
       "      <td>$2.4M</td>\n",
       "      <td>Saudi Arabia (KSA)</td>\n",
       "      <td>FinTech</td>\n",
       "      <td>Nuwa Capital</td>\n",
       "    </tr>\n",
       "    <tr>\n",
       "      <th>394</th>\n",
       "      <td>NaN</td>\n",
       "      <td>NaT</td>\n",
       "      <td>NaN</td>\n",
       "      <td>NaN</td>\n",
       "      <td>NaN</td>\n",
       "      <td>NaN</td>\n",
       "      <td>NaN</td>\n",
       "      <td>NaN</td>\n",
       "      <td>NaN</td>\n",
       "      <td>See All</td>\n",
       "    </tr>\n",
       "    <tr>\n",
       "      <th>395</th>\n",
       "      <td>Simma</td>\n",
       "      <td>2023-09-01</td>\n",
       "      <td>Undisclosed</td>\n",
       "      <td>Equity</td>\n",
       "      <td>Undisclosed</td>\n",
       "      <td>-</td>\n",
       "      <td>$1.5M</td>\n",
       "      <td>Jordan</td>\n",
       "      <td>FinTech</td>\n",
       "      <td>AHLI FINTECH</td>\n",
       "    </tr>\n",
       "    <tr>\n",
       "      <th>396</th>\n",
       "      <td>askPepper</td>\n",
       "      <td>2023-09-01</td>\n",
       "      <td>Undisclosed</td>\n",
       "      <td>Equity</td>\n",
       "      <td>Undisclosed</td>\n",
       "      <td>-</td>\n",
       "      <td>Undisclosed</td>\n",
       "      <td>Jordan</td>\n",
       "      <td>Food &amp; Beverage</td>\n",
       "      <td>AHLI FINTECH</td>\n",
       "    </tr>\n",
       "    <tr>\n",
       "      <th>397</th>\n",
       "      <td>zypl.ai</td>\n",
       "      <td>2023-09-01</td>\n",
       "      <td>Undisclosed</td>\n",
       "      <td>Equity</td>\n",
       "      <td>Undisclosed</td>\n",
       "      <td>-</td>\n",
       "      <td>Undisclosed</td>\n",
       "      <td>United Arab Emirates (UAE)</td>\n",
       "      <td>FinTech</td>\n",
       "      <td>AHLI FINTECH</td>\n",
       "    </tr>\n",
       "  </tbody>\n",
       "</table>\n",
       "<p>398 rows × 10 columns</p>\n",
       "</div>"
      ],
      "text/plain": [
       "                      Name Date Funded Funding Stage Investment Vehicle  \\\n",
       "0                  Maalexi  2024-07-01   Undisclosed       Venture Debt   \n",
       "1               جيل - Jeel  2024-06-01   Undisclosed             Equity   \n",
       "2           Comfi Payments  2024-06-01   Undisclosed  Conventional Debt   \n",
       "3                   Tapper  2024-06-01      Pre-SEED             Equity   \n",
       "4    Konn Technologies Ltd  2024-06-01   Undisclosed             Equity   \n",
       "..                     ...         ...           ...                ...   \n",
       "393                   erad  2023-09-01      Pre-SEED             Equity   \n",
       "394                    NaN         NaT           NaN                NaN   \n",
       "395                  Simma  2023-09-01   Undisclosed             Equity   \n",
       "396              askPepper  2023-09-01   Undisclosed             Equity   \n",
       "397                zypl.ai  2023-09-01   Undisclosed             Equity   \n",
       "\n",
       "    Amount Raised        Valuation Total Amount Raised  \\\n",
       "0             $1M                -                 $4M   \n",
       "1     Undisclosed                -         Undisclosed   \n",
       "2             $5M                -                 $5M   \n",
       "3           $250K    $4.5M - $5.5M               $250K   \n",
       "4     Undisclosed                -                 $2M   \n",
       "..            ...              ...                 ...   \n",
       "393         $2.4M  $17.9M - $21.8M               $2.4M   \n",
       "394           NaN              NaN                 NaN   \n",
       "395   Undisclosed                -               $1.5M   \n",
       "396   Undisclosed                -         Undisclosed   \n",
       "397   Undisclosed                -         Undisclosed   \n",
       "\n",
       "                        Country               Primary Industry  \\\n",
       "0    United Arab Emirates (UAE)          Transport & Logistics   \n",
       "1            Saudi Arabia (KSA)                         EdTech   \n",
       "2    United Arab Emirates (UAE)                        FinTech   \n",
       "3    United Arab Emirates (UAE)      Advertising and Marketing   \n",
       "4                        Jordan  Construction & Infrastructure   \n",
       "..                          ...                            ...   \n",
       "393          Saudi Arabia (KSA)                        FinTech   \n",
       "394                         NaN                            NaN   \n",
       "395                      Jordan                        FinTech   \n",
       "396                      Jordan                Food & Beverage   \n",
       "397  United Arab Emirates (UAE)                        FinTech   \n",
       "\n",
       "           Investors  \n",
       "0    Stride Ventures  \n",
       "1     RZM investment  \n",
       "2                  -  \n",
       "3         AngelSpark  \n",
       "4      Amam Ventures  \n",
       "..               ...  \n",
       "393     Nuwa Capital  \n",
       "394          See All  \n",
       "395     AHLI FINTECH  \n",
       "396     AHLI FINTECH  \n",
       "397     AHLI FINTECH  \n",
       "\n",
       "[398 rows x 10 columns]"
      ]
     },
     "execution_count": 5,
     "metadata": {},
     "output_type": "execute_result"
    }
   ],
   "source": [
    "df"
   ]
  },
  {
   "cell_type": "markdown",
   "metadata": {},
   "source": [
    "## Some data cleaning here"
   ]
  },
  {
   "cell_type": "code",
   "execution_count": 6,
   "metadata": {},
   "outputs": [],
   "source": [
    "\n",
    "# Data preprocessing\n",
    "df['Amount Raised'] = pd.to_numeric(df['Amount Raised'].replace({'\\$': '', 'M': '000000', 'K': '000'}, regex=True), errors='coerce').fillna(0)\n",
    "df['Valuation'] = df['Valuation'].str.split(' - ').str[0]\n",
    "df['Valuation'] = pd.to_numeric(df['Valuation'].replace({'\\$': '', 'M': '000000', 'K': '000'}, regex=True), errors='coerce').fillna(0)\n",
    "df['Total Amount Raised'] = pd.to_numeric(df['Total Amount Raised'].replace({'\\$': '', 'M': '000000', 'K': '000'}, regex=True), errors='coerce').fillna(0)\n"
   ]
  },
  {
   "cell_type": "code",
   "execution_count": 7,
   "metadata": {},
   "outputs": [
    {
     "name": "stdout",
     "output_type": "stream",
     "text": [
      "                    Name Date Funded Funding Stage Investment Vehicle  \\\n",
      "0                Maalexi  2024-07-01   Undisclosed       Venture Debt   \n",
      "1             جيل - Jeel  2024-06-01   Undisclosed             Equity   \n",
      "2         Comfi Payments  2024-06-01   Undisclosed  Conventional Debt   \n",
      "3                 Tapper  2024-06-01      Pre-SEED             Equity   \n",
      "4  Konn Technologies Ltd  2024-06-01   Undisclosed             Equity   \n",
      "\n",
      "   Amount Raised  Valuation  Total Amount Raised                     Country  \\\n",
      "0      1000000.0        0.0            4000000.0  United Arab Emirates (UAE)   \n",
      "1            0.0        0.0                  0.0          Saudi Arabia (KSA)   \n",
      "2      5000000.0        0.0            5000000.0  United Arab Emirates (UAE)   \n",
      "3       250000.0        0.0             250000.0  United Arab Emirates (UAE)   \n",
      "4            0.0        0.0            2000000.0                      Jordan   \n",
      "\n",
      "                Primary Industry        Investors  \n",
      "0          Transport & Logistics  Stride Ventures  \n",
      "1                         EdTech   RZM investment  \n",
      "2                        FinTech                -  \n",
      "3      Advertising and Marketing       AngelSpark  \n",
      "4  Construction & Infrastructure    Amam Ventures  \n"
     ]
    }
   ],
   "source": [
    "# Encoding categorical features\n",
    "data = pd.get_dummies(df, columns=['Funding Stage', 'Investment Vehicle', 'Country', 'Primary Industry'])\n",
    "\n",
    "# Display the preprocessed data\n",
    "print(df.head())"
   ]
  },
  {
   "cell_type": "markdown",
   "metadata": {},
   "source": [
    "## Defining State and Action Spaces"
   ]
  },
  {
   "cell_type": "code",
   "execution_count": 8,
   "metadata": {},
   "outputs": [],
   "source": [
    "# Extract relevant columns for state space\n",
    "state_space = df[['Amount Raised', 'Valuation', 'Total Amount Raised']].values\n",
    "\n",
    "# Define action space\n",
    "action_space = ['Increase Funding', 'Decrease Funding', 'Change Funding Vehicle', 'Pivot Business Model']\n",
    "action_dict = {action: i for i, action in enumerate(action_space)}\n"
   ]
  },
  {
   "cell_type": "markdown",
   "metadata": {},
   "source": [
    "### Defining the Reward Function"
   ]
  },
  {
   "cell_type": "code",
   "execution_count": 9,
   "metadata": {},
   "outputs": [],
   "source": [
    "# Initialize Q-table for Q-learning\n",
    "num_states = state_space.shape[0]\n",
    "num_actions = len(action_space)\n",
    "q_table = np.zeros((num_states, num_actions))\n",
    "\n",
    "# Q-learning parameters\n",
    "alpha = 0.1  # Learning rate\n",
    "gamma = 0.9  # Discount factor\n",
    "epsilon = 0.1  # Exploration factor\n",
    "\n",
    "# Reward function\n",
    "def reward_function(state, action):\n",
    "    amount_raised = float(state[0])\n",
    "    valuation = float(state[1])\n",
    "    total_amount_raised = float(state[2])\n",
    "    \n",
    "    if action == action_dict['Increase Funding']:\n",
    "        reward = (amount_raised * 0.1) + (valuation * 0.05)\n",
    "    elif action == action_dict['Decrease Funding']:\n",
    "        reward = (amount_raised * 0.05) - (valuation * 0.05)\n",
    "    elif action == action_dict['Change Funding Vehicle']:\n",
    "        reward = (total_amount_raised * 0.1)\n",
    "    elif action == action_dict['Pivot Business Model']:\n",
    "        reward = (valuation * 0.2)\n",
    "    else:\n",
    "        reward = 0\n",
    "    \n",
    "    return reward\n"
   ]
  },
  {
   "cell_type": "markdown",
   "metadata": {},
   "source": [
    "### Building and Training the Model\n",
    "Using Q-learning as an example to train the model."
   ]
  },
  {
   "cell_type": "code",
   "execution_count": 10,
   "metadata": {},
   "outputs": [
    {
     "name": "stdout",
     "output_type": "stream",
     "text": [
      "[[ 33184.68271817      0.              0.              0.        ]\n",
      " [ 94813.34940134      0.              0.              0.        ]\n",
      " [351190.41423019      0.              0.            589.5       ]\n",
      " ...\n",
      " [ 20119.08969184  18505.01293547  24191.78370154  16675.5171935 ]\n",
      " [ 26879.59300171  18946.6075334   18674.37170723  14645.69830539]\n",
      " [ 29866.21444635  19976.91031098  24610.63276734  20354.68324208]]\n"
     ]
    }
   ],
   "source": [
    "# Example of training loop for Q-learning\n",
    "def train_q_learning(epochs=1000):\n",
    "    for epoch in range(epochs):\n",
    "        state_index = np.random.choice(num_states)\n",
    "        state = state_space[state_index]\n",
    "\n",
    "        while True:\n",
    "            if np.random.rand() < epsilon:\n",
    "                action = np.random.choice(num_actions)\n",
    "            else:\n",
    "                action = np.argmax(q_table[state_index])\n",
    "\n",
    "            next_state_index = (state_index + 1) % num_states\n",
    "            next_state = state_space[next_state_index]\n",
    "\n",
    "            reward = reward_function(state, action)\n",
    "\n",
    "            q_table[state_index, action] = q_table[state_index, action] + \\\n",
    "                alpha * (reward + gamma * np.max(q_table[next_state_index]) - q_table[state_index, action])\n",
    "\n",
    "            state_index = next_state_index\n",
    "            state = next_state\n",
    "\n",
    "            if state_index == 0:\n",
    "                break\n",
    "\n",
    "# Train the model\n",
    "train_q_learning()\n",
    "\n",
    "# Display the Q-table\n",
    "print(q_table)"
   ]
  },
  {
   "cell_type": "code",
   "execution_count": 11,
   "metadata": {},
   "outputs": [
    {
     "name": "stdout",
     "output_type": "stream",
     "text": [
      "Actions Taken: ['Increase Funding', 'Increase Funding', 'Change Funding Vehicle', 'Increase Funding', 'Decrease Funding', 'Decrease Funding', 'Increase Funding', 'Change Funding Vehicle', 'Increase Funding', 'Decrease Funding']\n",
      "Rewards Received: [100000.0, 0.0, 0.0, 900000.0, 0.17500000000000002, 0.0, 0.0, 0.0, 0.0, 0.0]\n"
     ]
    }
   ],
   "source": [
    "# Function to simulate actions from a given initial state\n",
    "def simulate_actions(initial_state_index, num_steps=10):\n",
    "    state_index = initial_state_index\n",
    "    state = state_space[state_index]\n",
    "    actions_taken = []\n",
    "    rewards_received = []\n",
    "    \n",
    "    for step in range(num_steps):\n",
    "        action = np.argmax(q_table[state_index])\n",
    "        actions_taken.append(action_space[action])\n",
    "        \n",
    "        reward = reward_function(state, action)\n",
    "        rewards_received.append(reward)\n",
    "        \n",
    "        state_index = (state_index + 1) % num_states\n",
    "        state = state_space[state_index]\n",
    "    \n",
    "    return actions_taken, rewards_received\n",
    "\n",
    "# Simulate actions from a random initial state\n",
    "initial_state_index = np.random.choice(num_states)\n",
    "actions_taken, rewards_received = simulate_actions(initial_state_index)\n",
    "\n",
    "print(\"Actions Taken:\", actions_taken)\n",
    "print(\"Rewards Received:\", rewards_received)"
   ]
  },
  {
   "cell_type": "code",
   "execution_count": 12,
   "metadata": {},
   "outputs": [
    {
     "data": {
      "image/png": "[encoded data removed]",
      "text/plain": [
       "<Figure size 640x480 with 1 Axes>"
      ]
     },
     "metadata": {},
     "output_type": "display_data"
    }
   ],
   "source": [
    "# Plot rewards over time\n",
    "plt.plot(rewards_received)\n",
    "plt.xlabel('Step')\n",
    "plt.ylabel('Reward')\n",
    "plt.title('Rewards over Time')\n",
    "plt.show()"
   ]
  },
  {
   "cell_type": "code",
   "execution_count": 13,
   "metadata": {},
   "outputs": [
    {
     "name": "stdout",
     "output_type": "stream",
     "text": [
      "Average Reward per Episode: 8771638.770799998\n"
     ]
    }
   ],
   "source": [
    "# Evaluate average reward per episode\n",
    "def evaluate_model(episodes=100):\n",
    "    total_rewards = 0\n",
    "    \n",
    "    for episode in range(episodes):\n",
    "        state_index = np.random.choice(num_states)\n",
    "        state = state_space[state_index]\n",
    "        \n",
    "        episode_reward = 0\n",
    "        for step in range(10):\n",
    "            action = np.argmax(q_table[state_index])\n",
    "            reward = reward_function(state, action)\n",
    "            episode_reward += reward\n",
    "            \n",
    "            state_index = (state_index + 1) % num_states\n",
    "            state = state_space[state_index]\n",
    "        \n",
    "        total_rewards += episode_reward\n",
    "    \n",
    "    average_reward = total_rewards / episodes\n",
    "    return average_reward\n",
    "\n",
    "average_reward = evaluate_model()\n",
    "print(\"Average Reward per Episode:\", average_reward)"
   ]
  }
 ],
 "metadata": {
  "kernelspec": {
   "display_name": "Python 3 (ipykernel)",
   "language": "python",
   "name": "python3"
  },
  "language_info": {
   "codemirror_mode": {
    "name": "ipython",
    "version": 3
   },
   "file_extension": ".py",
   "mimetype": "text/x-python",
   "name": "python",
   "nbconvert_exporter": "python",
   "pygments_lexer": "ipython3",
   "version": "3.11.1"
  }
 },
 "nbformat": 4,
 "nbformat_minor": 4
}
